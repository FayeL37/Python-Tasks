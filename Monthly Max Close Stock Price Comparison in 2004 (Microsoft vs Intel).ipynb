{
 "cells": [
  {
   "cell_type": "code",
   "execution_count": 61,
   "metadata": {
    "collapsed": true
   },
   "outputs": [],
   "source": [
    "import pandas as pd\n",
    "import time\n",
    "from datetime import date\n",
    "from datetime import datetime\n",
    "from matplotlib.finance import quotes_historical_yahoo_ochl\n",
    "import matplotlib.pyplot as plt"
   ]
  },
  {
   "cell_type": "markdown",
   "metadata": {},
   "source": [
    "### Load data for Microsoft and Intel"
   ]
  },
  {
   "cell_type": "code",
   "execution_count": 26,
   "metadata": {
    "collapsed": true
   },
   "outputs": [],
   "source": [
    "start = datetime(2014,1,1)\n",
    "end = datetime(2014,12,31)\n",
    "quotesMSFT = quotes_historical_yahoo_ochl('MSFT', start, end) # get stock prices of Microsoft\n",
    "quotesINTC = quotes_historical_yahoo_ochl('INTC', start, end) # get stock prices of Intel\n",
    "#print quotesMSFT "
   ]
  },
  {
   "cell_type": "markdown",
   "metadata": {},
   "source": [
    "### Process data for Microsoft"
   ]
  },
  {
   "cell_type": "code",
   "execution_count": 29,
   "metadata": {
    "collapsed": true
   },
   "outputs": [],
   "source": [
    "# get the date and transfer them into datatime datatype\n",
    "date1 = []\n",
    "for i in xrange(len(quotesMSFT)):\n",
    "    x = date.fromordinal(int(quotesMSFT[i][0]))\n",
    "    y = datetime.strftime(x,'%Y-%m-%d')\n",
    "    date1.append(y)"
   ]
  },
  {
   "cell_type": "code",
   "execution_count": 31,
   "metadata": {
    "collapsed": true
   },
   "outputs": [],
   "source": [
    "month1 = []\n",
    "for i in xrange(len(quotesmsftdf)):\n",
    "    temp = time.strptime(quotesmsftdf.index[i],\"%Y-%m-%d\")\n",
    "    month1.append(temp.tm_mon)\n",
    "#print month1"
   ]
  },
  {
   "cell_type": "code",
   "execution_count": 39,
   "metadata": {
    "collapsed": true
   },
   "outputs": [],
   "source": [
    "fields = ['Date', 'Open', 'Close','High', 'Low','Volume']"
   ]
  },
  {
   "cell_type": "code",
   "execution_count": 41,
   "metadata": {},
   "outputs": [
    {
     "data": {
      "text/html": [
       "<div>\n",
       "<style>\n",
       "    .dataframe thead tr:only-child th {\n",
       "        text-align: right;\n",
       "    }\n",
       "\n",
       "    .dataframe thead th {\n",
       "        text-align: left;\n",
       "    }\n",
       "\n",
       "    .dataframe tbody tr th {\n",
       "        vertical-align: top;\n",
       "    }\n",
       "</style>\n",
       "<table border=\"1\" class=\"dataframe\">\n",
       "  <thead>\n",
       "    <tr style=\"text-align: right;\">\n",
       "      <th></th>\n",
       "      <th>Open</th>\n",
       "      <th>Close</th>\n",
       "      <th>High</th>\n",
       "      <th>Low</th>\n",
       "      <th>Volume</th>\n",
       "    </tr>\n",
       "  </thead>\n",
       "  <tbody>\n",
       "    <tr>\n",
       "      <th>2014-01-02</th>\n",
       "      <td>34.238272</td>\n",
       "      <td>34.064103</td>\n",
       "      <td>34.284110</td>\n",
       "      <td>34.009100</td>\n",
       "      <td>30632200.0</td>\n",
       "    </tr>\n",
       "    <tr>\n",
       "      <th>2014-01-03</th>\n",
       "      <td>34.100771</td>\n",
       "      <td>33.834931</td>\n",
       "      <td>34.119105</td>\n",
       "      <td>33.550756</td>\n",
       "      <td>31134800.0</td>\n",
       "    </tr>\n",
       "    <tr>\n",
       "      <th>2014-01-06</th>\n",
       "      <td>33.779928</td>\n",
       "      <td>33.119916</td>\n",
       "      <td>33.816597</td>\n",
       "      <td>33.101582</td>\n",
       "      <td>43603700.0</td>\n",
       "    </tr>\n",
       "    <tr>\n",
       "      <th>2014-01-07</th>\n",
       "      <td>33.303254</td>\n",
       "      <td>33.376587</td>\n",
       "      <td>33.449924</td>\n",
       "      <td>33.193249</td>\n",
       "      <td>35802800.0</td>\n",
       "    </tr>\n",
       "    <tr>\n",
       "      <th>2014-01-08</th>\n",
       "      <td>33.000746</td>\n",
       "      <td>32.780739</td>\n",
       "      <td>33.129081</td>\n",
       "      <td>32.615739</td>\n",
       "      <td>59971700.0</td>\n",
       "    </tr>\n",
       "  </tbody>\n",
       "</table>\n",
       "</div>"
      ],
      "text/plain": [
       "                 Open      Close       High        Low      Volume\n",
       "2014-01-02  34.238272  34.064103  34.284110  34.009100  30632200.0\n",
       "2014-01-03  34.100771  33.834931  34.119105  33.550756  31134800.0\n",
       "2014-01-06  33.779928  33.119916  33.816597  33.101582  43603700.0\n",
       "2014-01-07  33.303254  33.376587  33.449924  33.193249  35802800.0\n",
       "2014-01-08  33.000746  32.780739  33.129081  32.615739  59971700.0"
      ]
     },
     "execution_count": 41,
     "metadata": {},
     "output_type": "execute_result"
    }
   ],
   "source": [
    "quotesmsftdf = pd.DataFrame(quotesMSFT, index=date1, columns=fields)\n",
    "quotesmsftdf = quotesmsftdf.drop(['Date'], axis = 1) \n",
    "quotesmsftdf.head(5)  "
   ]
  },
  {
   "cell_type": "code",
   "execution_count": 48,
   "metadata": {},
   "outputs": [
    {
     "data": {
      "text/plain": [
       "pandas.core.series.Series"
      ]
     },
     "execution_count": 48,
     "metadata": {},
     "output_type": "execute_result"
    }
   ],
   "source": [
    "quotesmsftdf['Month'] = month1\n",
    "closemaxMSFT = quotesmsftdf.groupby('Month').max().Close\n",
    "closemaxMSFT"
   ]
  },
  {
   "cell_type": "markdown",
   "metadata": {},
   "source": [
    "### Process data for Intel"
   ]
  },
  {
   "cell_type": "code",
   "execution_count": 51,
   "metadata": {
    "collapsed": true
   },
   "outputs": [],
   "source": [
    "date2 = []\n",
    "for i in xrange(len(quotesINTC)):\n",
    "    x = date.fromordinal(int(quotesINTC[i][0]))\n",
    "    y = datetime.strftime(x,'%Y-%m-%d')\n",
    "    date2.append(y)"
   ]
  },
  {
   "cell_type": "code",
   "execution_count": 54,
   "metadata": {
    "collapsed": true
   },
   "outputs": [],
   "source": [
    "month2 = []\n",
    "for i in xrange(len(quotesmsftdf)):\n",
    "    temp = time.strptime(quotesmsftdf.index[i],\"%Y-%m-%d\")\n",
    "    month2.append(temp.tm_mon)"
   ]
  },
  {
   "cell_type": "code",
   "execution_count": 52,
   "metadata": {},
   "outputs": [
    {
     "data": {
      "text/html": [
       "<div>\n",
       "<style>\n",
       "    .dataframe thead tr:only-child th {\n",
       "        text-align: right;\n",
       "    }\n",
       "\n",
       "    .dataframe thead th {\n",
       "        text-align: left;\n",
       "    }\n",
       "\n",
       "    .dataframe tbody tr th {\n",
       "        vertical-align: top;\n",
       "    }\n",
       "</style>\n",
       "<table border=\"1\" class=\"dataframe\">\n",
       "  <thead>\n",
       "    <tr style=\"text-align: right;\">\n",
       "      <th></th>\n",
       "      <th>Open</th>\n",
       "      <th>Close</th>\n",
       "      <th>High</th>\n",
       "      <th>Low</th>\n",
       "      <th>Volume</th>\n",
       "    </tr>\n",
       "  </thead>\n",
       "  <tbody>\n",
       "    <tr>\n",
       "      <th>2014-01-02</th>\n",
       "      <td>23.316708</td>\n",
       "      <td>23.325752</td>\n",
       "      <td>23.352885</td>\n",
       "      <td>23.036326</td>\n",
       "      <td>31833300.0</td>\n",
       "    </tr>\n",
       "    <tr>\n",
       "      <th>2014-01-03</th>\n",
       "      <td>23.389064</td>\n",
       "      <td>23.316708</td>\n",
       "      <td>23.425241</td>\n",
       "      <td>23.153906</td>\n",
       "      <td>27796700.0</td>\n",
       "    </tr>\n",
       "    <tr>\n",
       "      <th>2014-01-06</th>\n",
       "      <td>23.307662</td>\n",
       "      <td>23.027282</td>\n",
       "      <td>23.325752</td>\n",
       "      <td>23.018239</td>\n",
       "      <td>28682300.0</td>\n",
       "    </tr>\n",
       "    <tr>\n",
       "      <th>2014-01-07</th>\n",
       "      <td>23.099640</td>\n",
       "      <td>23.144862</td>\n",
       "      <td>23.271485</td>\n",
       "      <td>23.036327</td>\n",
       "      <td>19665100.0</td>\n",
       "    </tr>\n",
       "    <tr>\n",
       "      <th>2014-01-08</th>\n",
       "      <td>23.190083</td>\n",
       "      <td>23.000150</td>\n",
       "      <td>23.253395</td>\n",
       "      <td>22.882571</td>\n",
       "      <td>29680500.0</td>\n",
       "    </tr>\n",
       "  </tbody>\n",
       "</table>\n",
       "</div>"
      ],
      "text/plain": [
       "                 Open      Close       High        Low      Volume\n",
       "2014-01-02  23.316708  23.325752  23.352885  23.036326  31833300.0\n",
       "2014-01-03  23.389064  23.316708  23.425241  23.153906  27796700.0\n",
       "2014-01-06  23.307662  23.027282  23.325752  23.018239  28682300.0\n",
       "2014-01-07  23.099640  23.144862  23.271485  23.036327  19665100.0\n",
       "2014-01-08  23.190083  23.000150  23.253395  22.882571  29680500.0"
      ]
     },
     "execution_count": 52,
     "metadata": {},
     "output_type": "execute_result"
    }
   ],
   "source": [
    "quotesintcdf = pd.DataFrame(quotesINTC, index = date2, columns = fields)\n",
    "quotesintcdf = quotesintcdf.drop(['Date'], axis = 1)\n",
    "quotesintcdf.head(5)"
   ]
  },
  {
   "cell_type": "code",
   "execution_count": 55,
   "metadata": {
    "scrolled": true
   },
   "outputs": [
    {
     "data": {
      "text/plain": [
       "Month\n",
       "1     24.121667\n",
       "2     22.644239\n",
       "3     23.566444\n",
       "4     24.689527\n",
       "5     25.159533\n",
       "6     28.484054\n",
       "7     32.038806\n",
       "8     32.585662\n",
       "9     32.752531\n",
       "10    31.769861\n",
       "11    34.758883\n",
       "12    35.150793\n",
       "Name: Close, dtype: float64"
      ]
     },
     "execution_count": 55,
     "metadata": {},
     "output_type": "execute_result"
    }
   ],
   "source": [
    "quotesintcdf['Month'] = month2\n",
    "closemaxINTC = quotesintcdf.groupby('Month').max().Close\n",
    "closemaxINTC"
   ]
  },
  {
   "cell_type": "markdown",
   "metadata": {},
   "source": [
    "### Plot a diagram comparing the stock price trend in 2004 for these two cmpanies"
   ]
  },
  {
   "cell_type": "code",
   "execution_count": 72,
   "metadata": {},
   "outputs": [
    {
     "data": {
      "image/png": "[encoded data removed]",
      "text/plain": [
       "<matplotlib.figure.Figure at 0x119ca4690>"
      ]
     },
     "metadata": {},
     "output_type": "display_data"
    }
   ],
   "source": [
    "fig, ax = plt.subplots()\n",
    "ax.plot(closemaxINTC, 'r-', label = 'Intel')\n",
    "ax.plot(closemaxMSFT, 'b-', label = 'Microsoft')\n",
    "ax.set_xlabel = 'Month'\n",
    "ax.set_ylabel = 'Monthly Max Close Price'\n",
    "ax.legend()\n",
    "ax.grid(linestyle = '--')\n",
    "\n",
    "plt.show()"
   ]
  }
 ],
 "metadata": {
  "kernelspec": {
   "display_name": "Python 2",
   "language": "python",
   "name": "python2"
  },
  "language_info": {
   "codemirror_mode": {
    "name": "ipython",
    "version": 2
   },
   "file_extension": ".py",
   "mimetype": "text/x-python",
   "name": "python",
   "nbconvert_exporter": "python",
   "pygments_lexer": "ipython2",
   "version": "2.7.13"
  }
 },
 "nbformat": 4,
 "nbformat_minor": 2
}
